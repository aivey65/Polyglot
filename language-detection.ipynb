{
 "cells": [
  {
   "cell_type": "code",
   "execution_count": 16,
   "metadata": {},
   "outputs": [],
   "source": [
    "# Corpus from https://www.kaggle.com/datasets/chazzer/big-language-detection-dataset?resource=download"
   ]
  },
  {
   "cell_type": "code",
   "execution_count": 45,
   "metadata": {},
   "outputs": [],
   "source": [
    "import pandas as pd\n",
    "import numpy as np\n",
    "import regex as re\n",
    "import warnings\n",
    "warnings.simplefilter(\"ignore\")"
   ]
  },
  {
   "cell_type": "markdown",
   "metadata": {},
   "source": [
    "Preprocess corpus data in bulk"
   ]
  },
  {
   "cell_type": "code",
   "execution_count": 46,
   "metadata": {},
   "outputs": [],
   "source": [
    "topLang = [\"eng\", \"cmn\", \"hin\", \"spa\", \"fra\", \"ara\", \"ben\", \"rus\", \"por\", \"ind\", \"urd\", \"deu\", \"jpn\", \"swh\", \"pnb\", \"tam\", \"kor\", \"vie\", \"jav\", \"ita\", \"tha\", \"tgl\", \"pol\", \"yor\", \"ukr\", \"ibo\", \"npi\", \"ron\", \"nld\", \"zsm\", \"afr\", \"grc\", \"swe\", \"heb\", \"lat\", \"san\", \"gle\", \"mri\", \"chr\", \"nav\", \"haw\", \"smo\"]\n",
    "\n",
    "data = pd.read_csv(\"sentences.csv\")\n",
    "\n",
    "data.drop([\"id\"], axis=1, inplace=True)\n",
    "data = data[data[\"lan_code\"].isin(topLang)]\n",
    "\n",
    "data[\"sentence\"] = data.apply(lambda x: re.sub(r\"(?=[\\p{Common}])[^']|(?<![a-zA-Z])'|'(?![a-zA-Z])\", \" \", x[\"sentence\"].lower()), axis=1)\n",
    "\n",
    "\"\"\" To enforce all languages have an equal number of samples:\"\"\"\n",
    "# data = filtered_data.groupby(\"lan_code\").sample(28)\n",
    "\n",
    "\"\"\" To just ensure that language sample sizes are not larger than 1000:\"\"\"\n",
    "data = data[data.groupby(\"lan_code\").cumcount() < 1000]\n",
    "\n",
    "data.to_csv(\"language_corpus.csv\", encoding='utf-8', index=False)"
   ]
  },
  {
   "cell_type": "code",
   "execution_count": 8,
   "metadata": {},
   "outputs": [],
   "source": [
    "data = pd.read_csv(\"language_corpus.csv\")\n",
    "\n",
    "# Encode the labels and retrieve the sentence data\n",
    "from sklearn.preprocessing import LabelEncoder\n",
    "\n",
    "le = LabelEncoder()\n",
    "labels = le.fit_transform(data[\"lan_code\"])\n",
    "\n",
    "text_data = data[\"sentence\"]"
   ]
  },
  {
   "cell_type": "code",
   "execution_count": 43,
   "metadata": {},
   "outputs": [],
   "source": [
    "from sklearn.model_selection import train_test_split\n",
    "from sklearn.feature_extraction.text import CountVectorizer\n",
    "\n",
    "train_text, test_text, train_labels, test_labels = train_test_split(text_data, labels, test_size=0.2)\n",
    "\n",
    "cv = CountVectorizer(ngram_range=(1,4))\n",
    "cv.fit(train_text)\n",
    "\n",
    "train_text = cv.transform(train_text)\n",
    "test_text = cv.transform(test_text)"
   ]
  },
  {
   "cell_type": "code",
   "execution_count": 44,
   "metadata": {},
   "outputs": [
    {
     "name": "stdout",
     "output_type": "stream",
     "text": [
      "accuracy: 0.8334636434714621\n"
     ]
    }
   ],
   "source": [
    "from sklearn.naive_bayes import ComplementNB\n",
    "from sklearn.metrics import accuracy_score\n",
    "\n",
    "model = ComplementNB()\n",
    "model.fit(train_text, train_labels)\n",
    "\n",
    "predictions = model.predict(test_text)\n",
    "\n",
    "ac = accuracy_score(test_labels, predictions)\n",
    "\n",
    "print(\"accuracy: \" + str(ac))"
   ]
  }
 ],
 "metadata": {
  "kernelspec": {
   "display_name": "Python 3",
   "language": "python",
   "name": "python3"
  },
  "language_info": {
   "codemirror_mode": {
    "name": "ipython",
    "version": 3
   },
   "file_extension": ".py",
   "mimetype": "text/x-python",
   "name": "python",
   "nbconvert_exporter": "python",
   "pygments_lexer": "ipython3",
   "version": "3.10.2"
  }
 },
 "nbformat": 4,
 "nbformat_minor": 2
}
