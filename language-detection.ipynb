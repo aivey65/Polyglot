{
 "cells": [
  {
   "cell_type": "code",
   "execution_count": 16,
   "metadata": {},
   "outputs": [],
   "source": [
    "# Corpus from https://www.kaggle.com/datasets/chazzer/big-language-detection-dataset?resource=download"
   ]
  },
  {
   "cell_type": "code",
   "execution_count": 2,
   "metadata": {},
   "outputs": [
    {
     "name": "stderr",
     "output_type": "stream",
     "text": [
      "/var/folders/ct/5yx69gds05q99cq5wg3smhlw0000gq/T/ipykernel_23775/2006435990.py:1: DeprecationWarning: \n",
      "Pyarrow will become a required dependency of pandas in the next major release of pandas (pandas 3.0),\n",
      "(to allow more performant data types, such as the Arrow string type, and better interoperability with other libraries)\n",
      "but was not found to be installed on your system.\n",
      "If this would cause problems for you,\n",
      "please provide us feedback at https://github.com/pandas-dev/pandas/issues/54466\n",
      "        \n",
      "  import pandas as pd\n"
     ]
    }
   ],
   "source": [
    "import pandas as pd\n",
    "import numpy as np\n",
    "import regex as re\n",
    "import warnings\n",
    "warnings.simplefilter(\"ignore\")"
   ]
  },
  {
   "cell_type": "code",
   "execution_count": 3,
   "metadata": {},
   "outputs": [
    {
     "data": {
      "text/plain": [
       "'\\ndata = pd.read_csv(\"sentences.csv\")\\n\\ndata.drop([\"id\"], axis=1, inplace=True)\\ndata[\"sentence\"] = data.apply(lambda x: re.sub(r\"(?=[\\\\p{Common}])[^\\']|(?<![a-zA-Z])\\'|\\'(?![a-zA-Z])\", \" \", x[\"sentence\"].lower()), axis=1)\\n\\ndata.to_csv(\"sentences_processed.csv\", encoding=\\'utf-8\\', index=False)\\n'"
      ]
     },
     "execution_count": 3,
     "metadata": {},
     "output_type": "execute_result"
    }
   ],
   "source": [
    "# Preprocess the data set and save in a new file\n",
    "# This gets rid of punctuation, makes strings into lower case, and drops the 'id' column\n",
    "\n",
    "\"\"\"\n",
    "data = pd.read_csv(\"sentences.csv\")\n",
    "\n",
    "data.drop([\"id\"], axis=1, inplace=True)\n",
    "data[\"sentence\"] = data.apply(lambda x: re.sub(r\"(?=[\\p{Common}])[^']|(?<![a-zA-Z])'|'(?![a-zA-Z])\", \" \", x[\"sentence\"].lower()), axis=1)\n",
    "\n",
    "data.to_csv(\"sentences_processed.csv\", encoding='utf-8', index=False)\n",
    "\"\"\""
   ]
  },
  {
   "cell_type": "code",
   "execution_count": 8,
   "metadata": {},
   "outputs": [
    {
     "data": {
      "text/plain": [
       "'\\ntopLang = [\"eng\", \"cmn\", \"hin\", \"spa\", \"fra\", \"ara\", \"ben\", \"rus\", \"por\", \"ind\", \"urd\", \"deu\", \"jpn\", \"swh\", \"pnb\", \"tam\", \"kor\", \"vie\", \"jav\", \"ita\", \"tha\", \"tgl\", \"pol\", \"yor\", \"ukr\", \"ibo\", \"npi\", \"ron\", \"nld\", \"zsm\", \"afr\", \"grc\", \"swe\", \"heb\", \"lat\", \"san\", \"gle\", \"mri\", \"chr\", \"nav\", \"haw\", \"smo\"]\\n\\nfiltered_data = data[data[\"lan_code\"].isin(topLang)]\\nfiltered_data = filtered_data.groupby(\"lan_code\").sample(28)\\nfiltered_data.to_csv(\"/content/top_lang_sentences.csv\", index=False)\\n\\n'"
      ]
     },
     "execution_count": 8,
     "metadata": {},
     "output_type": "execute_result"
    }
   ],
   "source": [
    "# Prune the data and get an equal sample size for each language. \n",
    "# - The data is filtered to only include 42 of the most spoken languages\n",
    "# - Right now, that is 28 sentences per language\n",
    "# \n",
    "# This also gets saved as a new file. This could probably be combined with the first step\n",
    "\n",
    "\"\"\"\n",
    "topLang = [\"eng\", \"cmn\", \"hin\", \"spa\", \"fra\", \"ara\", \"ben\", \"rus\", \"por\", \"ind\", \"urd\", \"deu\", \"jpn\", \"swh\", \"pnb\", \"tam\", \"kor\", \"vie\", \"jav\", \"ita\", \"tha\", \"tgl\", \"pol\", \"yor\", \"ukr\", \"ibo\", \"npi\", \"ron\", \"nld\", \"zsm\", \"afr\", \"grc\", \"swe\", \"heb\", \"lat\", \"san\", \"gle\", \"mri\", \"chr\", \"nav\", \"haw\", \"smo\"]\n",
    "\n",
    "filtered_data = data[data[\"lan_code\"].isin(topLang)]\n",
    "\n",
    "\n",
    "# To enforce all languages have an equal number of samples:\n",
    "filtered_data = filtered_data.groupby(\"lan_code\").sample(28)\n",
    "\n",
    "# To just ensure that language sample sizes are not larger than 800:\n",
    "filtered_data = filtered_data[filtered_data.groupby(\"lan_code\").cumcount() < 800]\n",
    "\n",
    "\n",
    "filtered_data.to_csv(\"/content/top_lang_sentences.csv\", index=False)\n",
    "\n",
    "\"\"\""
   ]
  },
  {
   "cell_type": "code",
   "execution_count": 38,
   "metadata": {},
   "outputs": [],
   "source": [
    "# Load the preprocessed data\n",
    "data = pd.read_csv(\"top_lang_sentences_800.csv\")"
   ]
  },
  {
   "cell_type": "code",
   "execution_count": 39,
   "metadata": {},
   "outputs": [
    {
     "name": "stdout",
     "output_type": "stream",
     "text": [
      "(26174,)\n"
     ]
    }
   ],
   "source": [
    "# Encode the labels and retrieve the sentence data\n",
    "from sklearn.preprocessing import LabelEncoder\n",
    "\n",
    "le = LabelEncoder()\n",
    "labels = le.fit_transform(data[\"lan_code\"])\n",
    "\n",
    "text_data = data[\"sentence\"]\n",
    "print(text_data.shape)"
   ]
  },
  {
   "cell_type": "code",
   "execution_count": 104,
   "metadata": {},
   "outputs": [
    {
     "name": "stdout",
     "output_type": "stream",
     "text": [
      "我們試試看 \n",
      "(20939, 190908)\n"
     ]
    }
   ],
   "source": [
    "from sklearn.model_selection import train_test_split\n",
    "from sklearn.feature_extraction.text import CountVectorizer\n",
    "\n",
    "train_text, test_text, train_labels, test_labels = train_test_split(text_data, labels, test_size=0.2)\n",
    "\n",
    "print(train_text[0])\n",
    "cv = CountVectorizer(ngram_range=(1,3), max_df=.8)\n",
    "cv.fit(train_text)\n",
    "\n",
    "train_text = cv.transform(train_text)\n",
    "test_text = cv.transform(test_text)\n",
    "\n",
    "print(train_text.shape)"
   ]
  },
  {
   "cell_type": "code",
   "execution_count": 105,
   "metadata": {},
   "outputs": [
    {
     "name": "stdout",
     "output_type": "stream",
     "text": [
      "accuracy: 0.8851957975167144\n"
     ]
    }
   ],
   "source": [
    "from sklearn.naive_bayes import MultinomialNB\n",
    "from dask_ml.naive_bayes import GaussianNB\n",
    "from sklearn.metrics import accuracy_score\n",
    "\n",
    "model = MultinomialNB()\n",
    "model.fit(train_text, train_labels)\n",
    "\n",
    "predictions = model.predict(test_text)\n",
    "\n",
    "ac = accuracy_score(test_labels, predictions)\n",
    "\n",
    "print(\"accuracy: \" + str(ac))"
   ]
  }
 ],
 "metadata": {
  "kernelspec": {
   "display_name": "Python 3",
   "language": "python",
   "name": "python3"
  },
  "language_info": {
   "codemirror_mode": {
    "name": "ipython",
    "version": 3
   },
   "file_extension": ".py",
   "mimetype": "text/x-python",
   "name": "python",
   "nbconvert_exporter": "python",
   "pygments_lexer": "ipython3",
   "version": "3.10.2"
  }
 },
 "nbformat": 4,
 "nbformat_minor": 2
}
