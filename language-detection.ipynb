{
 "cells": [
  {
   "cell_type": "code",
   "execution_count": 16,
   "metadata": {},
   "outputs": [],
   "source": [
    "# Corpus from https://www.kaggle.com/datasets/chazzer/big-language-detection-dataset?resource=download"
   ]
  },
  {
   "cell_type": "code",
   "execution_count": 2,
   "metadata": {},
   "outputs": [
    {
     "name": "stderr",
     "output_type": "stream",
     "text": [
      "/var/folders/ct/5yx69gds05q99cq5wg3smhlw0000gq/T/ipykernel_23775/2006435990.py:1: DeprecationWarning: \n",
      "Pyarrow will become a required dependency of pandas in the next major release of pandas (pandas 3.0),\n",
      "(to allow more performant data types, such as the Arrow string type, and better interoperability with other libraries)\n",
      "but was not found to be installed on your system.\n",
      "If this would cause problems for you,\n",
      "please provide us feedback at https://github.com/pandas-dev/pandas/issues/54466\n",
      "        \n",
      "  import pandas as pd\n"
     ]
    }
   ],
   "source": [
    "import pandas as pd\n",
    "import numpy as np\n",
    "import regex as re\n",
    "import warnings\n",
    "warnings.simplefilter(\"ignore\")"
   ]
  },
  {
   "cell_type": "code",
   "execution_count": 3,
   "metadata": {},
   "outputs": [
    {
     "data": {
      "text/plain": [
       "'\\ndata = pd.read_csv(\"sentences.csv\")\\n\\ndata.drop([\"id\"], axis=1, inplace=True)\\ndata[\"sentence\"] = data.apply(lambda x: re.sub(r\"(?=[\\\\p{Common}])[^\\']|(?<![a-zA-Z])\\'|\\'(?![a-zA-Z])\", \" \", x[\"sentence\"].lower()), axis=1)\\n\\ndata.to_csv(\"sentences_processed.csv\", encoding=\\'utf-8\\', index=False)\\n'"
      ]
     },
     "execution_count": 3,
     "metadata": {},
     "output_type": "execute_result"
    }
   ],
   "source": [
    "# Preprocess the data set and save in a new file\n",
    "# This gets rid of punctuation, makes strings into lower case, and drops the 'id' column\n",
    "\n",
    "\"\"\"\n",
    "data = pd.read_csv(\"sentences.csv\")\n",
    "\n",
    "data.drop([\"id\"], axis=1, inplace=True)\n",
    "data[\"sentence\"] = data.apply(lambda x: re.sub(r\"(?=[\\p{Common}])[^']|(?<![a-zA-Z])'|'(?![a-zA-Z])\", \" \", x[\"sentence\"].lower()), axis=1)\n",
    "\n",
    "data.to_csv(\"sentences_processed.csv\", encoding='utf-8', index=False)\n",
    "\"\"\""
   ]
  },
  {
   "cell_type": "code",
   "execution_count": 8,
   "metadata": {},
   "outputs": [
    {
     "data": {
      "text/plain": [
       "'\\ntopLang = [\"eng\", \"cmn\", \"hin\", \"spa\", \"fra\", \"ara\", \"ben\", \"rus\", \"por\", \"ind\", \"urd\", \"deu\", \"jpn\", \"swh\", \"pnb\", \"tam\", \"kor\", \"vie\", \"jav\", \"ita\", \"tha\", \"tgl\", \"pol\", \"yor\", \"ukr\", \"ibo\", \"npi\", \"ron\", \"nld\", \"zsm\", \"afr\", \"grc\", \"swe\", \"heb\", \"lat\", \"san\", \"gle\", \"mri\", \"chr\", \"nav\", \"haw\", \"smo\"]\\n\\nfiltered_data = data[data[\"lan_code\"].isin(topLang)]\\nfiltered_data = filtered_data.groupby(\"lan_code\").sample(28)\\nfiltered_data.to_csv(\"/content/top_lang_sentences.csv\", index=False)\\n\\n'"
      ]
     },
     "execution_count": 8,
     "metadata": {},
     "output_type": "execute_result"
    }
   ],
   "source": [
    "# Prune the data and get an equal sample size for each language. \n",
    "# - The data is filtered to only include 42 of the most spoken languages\n",
    "# - Right now, that is 28 sentences per language\n",
    "# \n",
    "# This also gets saved as a new file. This could probably be combined with the first step\n",
    "\n",
    "\"\"\"\n",
    "topLang = [\"eng\", \"cmn\", \"hin\", \"spa\", \"fra\", \"ara\", \"ben\", \"rus\", \"por\", \"ind\", \"urd\", \"deu\", \"jpn\", \"swh\", \"pnb\", \"tam\", \"kor\", \"vie\", \"jav\", \"ita\", \"tha\", \"tgl\", \"pol\", \"yor\", \"ukr\", \"ibo\", \"npi\", \"ron\", \"nld\", \"zsm\", \"afr\", \"grc\", \"swe\", \"heb\", \"lat\", \"san\", \"gle\", \"mri\", \"chr\", \"nav\", \"haw\", \"smo\"]\n",
    "\n",
    "filtered_data = data[data[\"lan_code\"].isin(topLang)]\n",
    "filtered_data = filtered_data.groupby(\"lan_code\").sample(28)\n",
    "filtered_data.to_csv(\"/content/top_lang_sentences.csv\", index=False)\n",
    "\n",
    "\"\"\""
   ]
  },
  {
   "cell_type": "code",
   "execution_count": 4,
   "metadata": {},
   "outputs": [],
   "source": [
    "# Load the preprocessed data\n",
    "data = pd.read_csv(\"sentences_processed.csv\")"
   ]
  },
  {
   "cell_type": "code",
   "execution_count": 21,
   "metadata": {},
   "outputs": [
    {
     "name": "stdout",
     "output_type": "stream",
     "text": [
      "(10341812,)\n"
     ]
    }
   ],
   "source": [
    "# Encode the labels and retrieve the sentence data\n",
    "from sklearn.preprocessing import LabelEncoder\n",
    "\n",
    "le = LabelEncoder()\n",
    "labels = le.fit_transform(data[\"lan_code\"])\n",
    "\n",
    "text_data = data[\"sentence\"]\n",
    "print(text_data.shape)"
   ]
  },
  {
   "cell_type": "code",
   "execution_count": 22,
   "metadata": {},
   "outputs": [
    {
     "name": "stdout",
     "output_type": "stream",
     "text": [
      "我們試試看 \n"
     ]
    }
   ],
   "source": [
    "from sklearn.model_selection import train_test_split\n",
    "from sklearn.feature_extraction.text import CountVectorizer\n",
    "\n",
    "train_text, test_text, train_labels, test_labels = train_test_split(text_data, labels, test_size=0.2)\n",
    "\n",
    "print(train_text[0])\n",
    "cv = CountVectorizer()\n",
    "cv.fit(train_text)\n",
    "\n",
    "train_text = cv.transform(train_text)\n",
    "test_text = cv.transform(test_text)"
   ]
  },
  {
   "cell_type": "code",
   "execution_count": 23,
   "metadata": {},
   "outputs": [
    {
     "name": "stdout",
     "output_type": "stream",
     "text": [
      "(8273449, 2004014)\n"
     ]
    }
   ],
   "source": [
    "print(train_text.shape)"
   ]
  },
  {
   "cell_type": "code",
   "execution_count": 11,
   "metadata": {},
   "outputs": [
    {
     "ename": "AttributeError",
     "evalue": "'csr_matrix' object has no attribute 'var'",
     "output_type": "error",
     "traceback": [
      "\u001b[0;31m---------------------------------------------------------------------------\u001b[0m",
      "\u001b[0;31mAttributeError\u001b[0m                            Traceback (most recent call last)",
      "Input \u001b[0;32mIn [11]\u001b[0m, in \u001b[0;36m<cell line: 6>\u001b[0;34m()\u001b[0m\n\u001b[1;32m      3\u001b[0m \u001b[38;5;28;01mfrom\u001b[39;00m \u001b[38;5;21;01msklearn\u001b[39;00m\u001b[38;5;21;01m.\u001b[39;00m\u001b[38;5;21;01mmetrics\u001b[39;00m \u001b[38;5;28;01mimport\u001b[39;00m accuracy_score, confusion_matrix\n\u001b[1;32m      5\u001b[0m model \u001b[38;5;241m=\u001b[39m GaussianNB()\n\u001b[0;32m----> 6\u001b[0m \u001b[43mmodel\u001b[49m\u001b[38;5;241;43m.\u001b[39;49m\u001b[43mfit\u001b[49m\u001b[43m(\u001b[49m\u001b[43mtrain_text\u001b[49m\u001b[43m,\u001b[49m\u001b[43m \u001b[49m\u001b[43mtrain_labels\u001b[49m\u001b[43m)\u001b[49m\n",
      "File \u001b[0;32m/Library/Frameworks/Python.framework/Versions/3.10/lib/python3.10/site-packages/dask_ml/naive_bayes.py:44\u001b[0m, in \u001b[0;36mGaussianNB.fit\u001b[0;34m(self, X, y)\u001b[0m\n\u001b[1;32m     42\u001b[0m     X_c \u001b[38;5;241m=\u001b[39m X[y \u001b[38;5;241m==\u001b[39m c]\n\u001b[1;32m     43\u001b[0m     thetas\u001b[38;5;241m.\u001b[39mappend(X_c\u001b[38;5;241m.\u001b[39mmean(axis\u001b[38;5;241m=\u001b[39m\u001b[38;5;241m0\u001b[39m))\n\u001b[0;32m---> 44\u001b[0m     sigmas\u001b[38;5;241m.\u001b[39mappend(\u001b[43mX_c\u001b[49m\u001b[38;5;241;43m.\u001b[39;49m\u001b[43mvar\u001b[49m(axis\u001b[38;5;241m=\u001b[39m\u001b[38;5;241m0\u001b[39m))\n\u001b[1;32m     45\u001b[0m     counts\u001b[38;5;241m.\u001b[39mappend(delayed(\u001b[38;5;28mlen\u001b[39m)(X_c))\n\u001b[1;32m     47\u001b[0m thetas \u001b[38;5;241m=\u001b[39m da\u001b[38;5;241m.\u001b[39mfrom_delayed(delayed(np\u001b[38;5;241m.\u001b[39marray)(thetas), (K, P), np\u001b[38;5;241m.\u001b[39mfloat64)\n",
      "\u001b[0;31mAttributeError\u001b[0m: 'csr_matrix' object has no attribute 'var'"
     ]
    }
   ],
   "source": [
    "from sklearn.naive_bayes import MultinomialNB\n",
    "from dask_ml.naive_bayes import GaussianNB\n",
    "from sklearn.metrics import accuracy_score, confusion_matrix\n",
    "\n",
    "model = GaussianNB()\n",
    "model.fit(train_text, train_labels)\n",
    "\n",
    "# predictions = model.predict(test_text)\n",
    "\n",
    "# ac = accuracy_score(test_labels, predictions)\n",
    "# cm = confusion_matrix(test_labels, predictions)\n",
    "\n",
    "# print(\"accuracy: \" + ac)\n",
    "# print(\"matrix: \" + cm)"
   ]
  }
 ],
 "metadata": {
  "kernelspec": {
   "display_name": "Python 3",
   "language": "python",
   "name": "python3"
  },
  "language_info": {
   "codemirror_mode": {
    "name": "ipython",
    "version": 3
   },
   "file_extension": ".py",
   "mimetype": "text/x-python",
   "name": "python",
   "nbconvert_exporter": "python",
   "pygments_lexer": "ipython3",
   "version": "3.10.2"
  }
 },
 "nbformat": 4,
 "nbformat_minor": 2
}
